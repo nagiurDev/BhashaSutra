{
 "cells": [
  {
   "cell_type": "markdown",
   "id": "fa773033-af76-4eb3-bda9-0591b31c60d9",
   "metadata": {},
   "source": [
    "# 4.0 Vocabulary Token, Pad sequences"
   ]
  },
  {
   "cell_type": "code",
   "execution_count": 2,
   "id": "9603d650-93e7-4d88-b02c-611af06eb943",
   "metadata": {},
   "outputs": [],
   "source": [
    "from tensorflow.keras.preprocessing.text import Tokenizer\n",
    "from tensorflow.keras.preprocessing.sequence import pad_sequences"
   ]
  },
  {
   "cell_type": "code",
   "execution_count": 4,
   "id": "8cee464e-5985-4aae-b6c6-9f877c26b17e",
   "metadata": {},
   "outputs": [],
   "source": [
    "sentences = [\n",
    "    'আমি ভালবাসি বই পড়তে,',\n",
    "    'আমি ভালবাসি বই লিখতে!',\n",
    "    'বইমেলা এলে আমি প্রচুর বই কিনি',\n",
    "    'এইবার বইমেলায় আমার সাথে তুমি কি যাবে?'\n",
    "]"
   ]
  },
  {
   "cell_type": "code",
   "execution_count": 12,
   "id": "e7b287d3-c467-465c-9196-d927c0c231d8",
   "metadata": {},
   "outputs": [],
   "source": [
    "tokenizer = Tokenizer(num_words= 100, oov_token=\"<OOV>\")\n",
    "tokenizer.fit_on_texts(sentences)\n",
    "\n",
    "word_index = tokenizer.word_index\n",
    "\n",
    "sequences = tokenizer.texts_to_sequences(sentences)"
   ]
  },
  {
   "cell_type": "code",
   "execution_count": 20,
   "id": "c58cc3b1-6c12-4041-a849-2178fdbc55b8",
   "metadata": {},
   "outputs": [],
   "source": [
    "padded = pad_sequences(sequences, maxlen=8)"
   ]
  },
  {
   "cell_type": "code",
   "execution_count": 24,
   "id": "800c0167-683b-4e06-bdc7-ad1b032ebc50",
   "metadata": {},
   "outputs": [
    {
     "data": {
      "text/plain": [
       "[[2, 4, 3, 5], [2, 4, 3, 6], [7, 8, 2, 9, 3, 10], [11, 12, 13, 14, 15, 16, 17]]"
      ]
     },
     "execution_count": 24,
     "metadata": {},
     "output_type": "execute_result"
    }
   ],
   "source": [
    "sequences"
   ]
  },
  {
   "cell_type": "code",
   "execution_count": 26,
   "id": "6a90d654-8ff6-4303-b99b-04681f04d06d",
   "metadata": {},
   "outputs": [
    {
     "data": {
      "text/plain": [
       "array([[ 0,  0,  0,  0,  2,  4,  3,  5],\n",
       "       [ 0,  0,  0,  0,  2,  4,  3,  6],\n",
       "       [ 0,  0,  7,  8,  2,  9,  3, 10],\n",
       "       [ 0, 11, 12, 13, 14, 15, 16, 17]], dtype=int32)"
      ]
     },
     "execution_count": 26,
     "metadata": {},
     "output_type": "execute_result"
    }
   ],
   "source": [
    "padded"
   ]
  },
  {
   "cell_type": "code",
   "execution_count": 28,
   "id": "bf19d92d-ae5f-4073-a3c5-bd67308985a7",
   "metadata": {},
   "outputs": [
    {
     "data": {
      "text/plain": [
       "{'<OOV>': 1,\n",
       " 'আমি': 2,\n",
       " 'বই': 3,\n",
       " 'ভালবাসি': 4,\n",
       " 'পড়তে': 5,\n",
       " 'লিখতে': 6,\n",
       " 'বইমেলা': 7,\n",
       " 'এলে': 8,\n",
       " 'প্রচুর': 9,\n",
       " 'কিনি': 10,\n",
       " 'এইবার': 11,\n",
       " 'বইমেলায়': 12,\n",
       " 'আমার': 13,\n",
       " 'সাথে': 14,\n",
       " 'তুমি': 15,\n",
       " 'কি': 16,\n",
       " 'যাবে': 17}"
      ]
     },
     "execution_count": 28,
     "metadata": {},
     "output_type": "execute_result"
    }
   ],
   "source": [
    "word_index"
   ]
  },
  {
   "cell_type": "code",
   "execution_count": 30,
   "id": "429be08a-81b6-40bd-82ee-03b0bb5964b5",
   "metadata": {},
   "outputs": [],
   "source": [
    "test_data = [\n",
    "    'আমি আসলেই ভালবাসি বই পড়তে',\n",
    "    'বইমেলায় এবার প্রচুর নতুন বই এসেছে!'\n",
    "]"
   ]
  },
  {
   "cell_type": "code",
   "execution_count": 32,
   "id": "a459ffd9-bdec-4759-ad99-822b3d3bac81",
   "metadata": {},
   "outputs": [],
   "source": [
    "test_seq = tokenizer.texts_to_sequences(test_data)"
   ]
  },
  {
   "cell_type": "code",
   "execution_count": 34,
   "id": "e6908de9-1001-4c10-991c-5e29393987e5",
   "metadata": {},
   "outputs": [],
   "source": [
    "padded = pad_sequences(test_seq, maxlen=8)"
   ]
  },
  {
   "cell_type": "code",
   "execution_count": 36,
   "id": "81ec189b-7194-4d0d-bb94-81001ee0a504",
   "metadata": {},
   "outputs": [
    {
     "data": {
      "text/plain": [
       "[[2, 1, 4, 3, 5], [12, 1, 9, 1, 3, 1]]"
      ]
     },
     "execution_count": 36,
     "metadata": {},
     "output_type": "execute_result"
    }
   ],
   "source": [
    "test_seq"
   ]
  },
  {
   "cell_type": "code",
   "execution_count": 38,
   "id": "997c80ec-440d-476f-99c5-47f7987eb12e",
   "metadata": {},
   "outputs": [
    {
     "data": {
      "text/plain": [
       "array([[ 0,  0,  0,  2,  1,  4,  3,  5],\n",
       "       [ 0,  0, 12,  1,  9,  1,  3,  1]], dtype=int32)"
      ]
     },
     "execution_count": 38,
     "metadata": {},
     "output_type": "execute_result"
    }
   ],
   "source": [
    "padded"
   ]
  },
  {
   "cell_type": "code",
   "execution_count": null,
   "id": "85d35a63-98d8-4aed-bef7-ce99e0529e99",
   "metadata": {},
   "outputs": [],
   "source": []
  }
 ],
 "metadata": {
  "kernelspec": {
   "display_name": "Python 3 (ipykernel)",
   "language": "python",
   "name": "python3"
  },
  "language_info": {
   "codemirror_mode": {
    "name": "ipython",
    "version": 3
   },
   "file_extension": ".py",
   "mimetype": "text/x-python",
   "name": "python",
   "nbconvert_exporter": "python",
   "pygments_lexer": "ipython3",
   "version": "3.12.4"
  }
 },
 "nbformat": 4,
 "nbformat_minor": 5
}
