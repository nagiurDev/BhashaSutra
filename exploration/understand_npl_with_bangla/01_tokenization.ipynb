{
 "cells": [
  {
   "cell_type": "markdown",
   "id": "ccdb456c-68ac-4ae1-b534-03864ed702f4",
   "metadata": {},
   "source": [
    "# 1.0 Tokenization"
   ]
  },
  {
   "cell_type": "code",
   "execution_count": 8,
   "id": "ee9dbad6-0c16-4c7c-ac87-681ff7588ac3",
   "metadata": {},
   "outputs": [],
   "source": [
    "import numpy as np\n",
    "import tensorflow as tf\n",
    "from tensorflow.keras.preprocessing.text import Tokenizer"
   ]
  },
  {
   "cell_type": "code",
   "execution_count": 10,
   "id": "6fde95a5-e2b0-4be4-b6a6-38939f443ad0",
   "metadata": {},
   "outputs": [
    {
     "data": {
      "text/plain": [
       "<tf.Tensor: shape=(3,), dtype=int32, numpy=array([2488, 2453, 2482], dtype=int32)>"
      ]
     },
     "execution_count": 10,
     "metadata": {},
     "output_type": "execute_result"
    }
   ],
   "source": [
    "tf.strings.unicode_decode(\"সকল\", input_encoding='UTF-8') "
   ]
  },
  {
   "cell_type": "code",
   "execution_count": 12,
   "id": "3b7b2f0c-e7dc-47a4-bbfa-82535d0987b5",
   "metadata": {},
   "outputs": [
    {
     "data": {
      "text/plain": [
       "<tf.Tensor: shape=(19,), dtype=int32, numpy=\n",
       "array([2438, 2478, 2495,   32, 2477, 2494, 2482, 2476, 2494, 2488, 2495,\n",
       "         32, 2476, 2439,   32, 2474, 2524, 2468, 2503], dtype=int32)>"
      ]
     },
     "execution_count": 12,
     "metadata": {},
     "output_type": "execute_result"
    }
   ],
   "source": [
    "tf.strings.unicode_decode('আমি ভালবাসি বই পড়তে', 'UTF-8')"
   ]
  },
  {
   "cell_type": "code",
   "execution_count": 50,
   "id": "2047aa3f-bacb-438e-bf9d-dfd604a466f4",
   "metadata": {},
   "outputs": [
    {
     "name": "stdout",
     "output_type": "stream",
     "text": [
      "{'আমি': 1, 'ভালবাসি': 2, 'বই': 3, 'পড়তে': 4, 'লিখতে': 5}\n",
      "\n",
      "OrderedDict({'আমি': 2, 'ভালবাসি': 2, 'বই': 2, 'পড়তে': 1, 'লিখতে': 1})\n"
     ]
    }
   ],
   "source": [
    "sentences = ['আমি ভালবাসি বই পড়তে।', 'আমি ভালবাসি বই লিখতে ! ।']\n",
    "\n",
    "tokenizer = Tokenizer(num_words = 10, filters='!।')\n",
    "tokenizer.fit_on_texts(sentences)\n",
    "\n",
    "word_index = tokenizer.word_index\n",
    "print(word_index, end='\\n\\n')\n",
    "\n",
    "word_counts = tokenizer.word_counts\n",
    "print(word_counts)"
   ]
  },
  {
   "cell_type": "code",
   "execution_count": 54,
   "id": "2ddfbbd7-b729-44dc-ab4a-3d9bbf34ef77",
   "metadata": {},
   "outputs": [
    {
     "data": {
      "text/plain": [
       "{'num_words': 10,\n",
       " 'filters': '!।',\n",
       " 'lower': True,\n",
       " 'split': ' ',\n",
       " 'char_level': False,\n",
       " 'oov_token': None,\n",
       " 'document_count': 2,\n",
       " 'word_counts': '{\"\\\\u0986\\\\u09ae\\\\u09bf\": 2, \"\\\\u09ad\\\\u09be\\\\u09b2\\\\u09ac\\\\u09be\\\\u09b8\\\\u09bf\": 2, \"\\\\u09ac\\\\u0987\": 2, \"\\\\u09aa\\\\u09dc\\\\u09a4\\\\u09c7\": 1, \"\\\\u09b2\\\\u09bf\\\\u0996\\\\u09a4\\\\u09c7\": 1}',\n",
       " 'word_docs': '{\"\\\\u09ac\\\\u0987\": 2, \"\\\\u09ad\\\\u09be\\\\u09b2\\\\u09ac\\\\u09be\\\\u09b8\\\\u09bf\": 2, \"\\\\u09aa\\\\u09dc\\\\u09a4\\\\u09c7\": 1, \"\\\\u0986\\\\u09ae\\\\u09bf\": 2, \"\\\\u09b2\\\\u09bf\\\\u0996\\\\u09a4\\\\u09c7\": 1}',\n",
       " 'index_docs': '{\"3\": 2, \"2\": 2, \"4\": 1, \"1\": 2, \"5\": 1}',\n",
       " 'index_word': '{\"1\": \"\\\\u0986\\\\u09ae\\\\u09bf\", \"2\": \"\\\\u09ad\\\\u09be\\\\u09b2\\\\u09ac\\\\u09be\\\\u09b8\\\\u09bf\", \"3\": \"\\\\u09ac\\\\u0987\", \"4\": \"\\\\u09aa\\\\u09dc\\\\u09a4\\\\u09c7\", \"5\": \"\\\\u09b2\\\\u09bf\\\\u0996\\\\u09a4\\\\u09c7\"}',\n",
       " 'word_index': '{\"\\\\u0986\\\\u09ae\\\\u09bf\": 1, \"\\\\u09ad\\\\u09be\\\\u09b2\\\\u09ac\\\\u09be\\\\u09b8\\\\u09bf\": 2, \"\\\\u09ac\\\\u0987\": 3, \"\\\\u09aa\\\\u09dc\\\\u09a4\\\\u09c7\": 4, \"\\\\u09b2\\\\u09bf\\\\u0996\\\\u09a4\\\\u09c7\": 5}'}"
      ]
     },
     "execution_count": 54,
     "metadata": {},
     "output_type": "execute_result"
    }
   ],
   "source": [
    "tokenizer.get_config()"
   ]
  },
  {
   "cell_type": "code",
   "execution_count": null,
   "id": "c958c70a-66a5-44e0-a776-9f0770277665",
   "metadata": {},
   "outputs": [],
   "source": []
  }
 ],
 "metadata": {
  "kernelspec": {
   "display_name": "Python 3 (ipykernel)",
   "language": "python",
   "name": "python3"
  },
  "language_info": {
   "codemirror_mode": {
    "name": "ipython",
    "version": 3
   },
   "file_extension": ".py",
   "mimetype": "text/x-python",
   "name": "python",
   "nbconvert_exporter": "python",
   "pygments_lexer": "ipython3",
   "version": "3.12.4"
  }
 },
 "nbformat": 4,
 "nbformat_minor": 5
}
