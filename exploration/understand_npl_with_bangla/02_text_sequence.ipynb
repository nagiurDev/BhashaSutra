{
 "cells": [
  {
   "cell_type": "markdown",
   "id": "3613011d-139e-4c14-a7db-3148525982e7",
   "metadata": {},
   "source": [
    "# 2.0 Text Sequence"
   ]
  },
  {
   "cell_type": "code",
   "execution_count": 94,
   "id": "333a6e16-e7d9-4c71-a103-6bba2db9a463",
   "metadata": {},
   "outputs": [],
   "source": [
    "import numpy as np\n",
    "import tensorflow as tf\n",
    "from tensorflow.keras.preprocessing.text import Tokenizer\n",
    "from tensorflow.keras.preprocessing.sequence import pad_sequences"
   ]
  },
  {
   "cell_type": "markdown",
   "id": "50605bb4-30ee-4340-8049-0033e1af1479",
   "metadata": {},
   "source": [
    "## 2.1 Understand text sequence"
   ]
  },
  {
   "cell_type": "code",
   "execution_count": 33,
   "id": "930a6515-ac28-4d44-a94c-2cd0df76e4b3",
   "metadata": {},
   "outputs": [
    {
     "data": {
      "text/plain": [
       "{'আমি': 1,\n",
       " 'বই': 2,\n",
       " 'ভালবাসি': 3,\n",
       " 'পড়তে': 4,\n",
       " 'লিখতে': 5,\n",
       " 'বইমেলা': 6,\n",
       " 'এলে': 7,\n",
       " 'প্রচুর': 8,\n",
       " 'কিনি': 9}"
      ]
     },
     "execution_count": 33,
     "metadata": {},
     "output_type": "execute_result"
    }
   ],
   "source": [
    "sentences = [\n",
    "    'আমি ভালবাসি বই পড়তে,',\n",
    "    'আমি ভালবাসি বই লিখতে!',\n",
    "    'বইমেলা এলে আমি প্রচুর বই কিনি'\n",
    "    ]\n",
    "\n",
    "tokenizer = Tokenizer(num_words= 10)\n",
    "tokenizer.fit_on_texts(sentences)\n",
    "\n",
    "word_index = tokenizer.word_index\n",
    "word_index"
   ]
  },
  {
   "cell_type": "code",
   "execution_count": 25,
   "id": "77c80ac6-bf52-4230-8798-dd776fbabdbf",
   "metadata": {},
   "outputs": [
    {
     "data": {
      "text/plain": [
       "OrderedDict([('আমি', 3),\n",
       "             ('ভালবাসি', 2),\n",
       "             ('বই', 3),\n",
       "             ('পড়তে', 1),\n",
       "             ('লিখতে', 1),\n",
       "             ('বইমেলা', 1),\n",
       "             ('এলে', 1),\n",
       "             ('প্রচুর', 1),\n",
       "             ('কিনি', 1)])"
      ]
     },
     "execution_count": 25,
     "metadata": {},
     "output_type": "execute_result"
    }
   ],
   "source": [
    "tokenizer.word_counts"
   ]
  },
  {
   "cell_type": "code",
   "execution_count": 31,
   "id": "114911a8-54d0-4da9-907a-14bef403cbf8",
   "metadata": {},
   "outputs": [
    {
     "data": {
      "text/plain": [
       "[[1, 3, 2, 4], [1, 3, 2, 5], [6, 7, 1, 8, 2, 9]]"
      ]
     },
     "execution_count": 31,
     "metadata": {},
     "output_type": "execute_result"
    }
   ],
   "source": [
    "tokenizer.texts_to_sequences(sentences)"
   ]
  },
  {
   "cell_type": "code",
   "execution_count": 27,
   "id": "1e03c6b3-3bc6-4bc9-83cd-d09a227d444c",
   "metadata": {},
   "outputs": [
    {
     "data": {
      "text/plain": [
       "{'num_words': 10,\n",
       " 'filters': '!\"#$%&()*+,-./:;<=>?@[\\\\]^_`{|}~\\t\\n',\n",
       " 'lower': True,\n",
       " 'split': ' ',\n",
       " 'char_level': False,\n",
       " 'oov_token': None,\n",
       " 'document_count': 3,\n",
       " 'word_counts': '{\"\\\\u0986\\\\u09ae\\\\u09bf\": 3, \"\\\\u09ad\\\\u09be\\\\u09b2\\\\u09ac\\\\u09be\\\\u09b8\\\\u09bf\": 2, \"\\\\u09ac\\\\u0987\": 3, \"\\\\u09aa\\\\u09dc\\\\u09a4\\\\u09c7\": 1, \"\\\\u09b2\\\\u09bf\\\\u0996\\\\u09a4\\\\u09c7\": 1, \"\\\\u09ac\\\\u0987\\\\u09ae\\\\u09c7\\\\u09b2\\\\u09be\": 1, \"\\\\u098f\\\\u09b2\\\\u09c7\": 1, \"\\\\u09aa\\\\u09cd\\\\u09b0\\\\u099a\\\\u09c1\\\\u09b0\": 1, \"\\\\u0995\\\\u09bf\\\\u09a8\\\\u09bf\": 1}',\n",
       " 'word_docs': '{\"\\\\u09aa\\\\u09dc\\\\u09a4\\\\u09c7\": 1, \"\\\\u0986\\\\u09ae\\\\u09bf\": 3, \"\\\\u09ac\\\\u0987\": 3, \"\\\\u09ad\\\\u09be\\\\u09b2\\\\u09ac\\\\u09be\\\\u09b8\\\\u09bf\": 2, \"\\\\u09b2\\\\u09bf\\\\u0996\\\\u09a4\\\\u09c7\": 1, \"\\\\u09aa\\\\u09cd\\\\u09b0\\\\u099a\\\\u09c1\\\\u09b0\": 1, \"\\\\u09ac\\\\u0987\\\\u09ae\\\\u09c7\\\\u09b2\\\\u09be\": 1, \"\\\\u098f\\\\u09b2\\\\u09c7\": 1, \"\\\\u0995\\\\u09bf\\\\u09a8\\\\u09bf\": 1}',\n",
       " 'index_docs': '{\"4\": 1, \"1\": 3, \"2\": 3, \"3\": 2, \"5\": 1, \"8\": 1, \"6\": 1, \"7\": 1, \"9\": 1}',\n",
       " 'index_word': '{\"1\": \"\\\\u0986\\\\u09ae\\\\u09bf\", \"2\": \"\\\\u09ac\\\\u0987\", \"3\": \"\\\\u09ad\\\\u09be\\\\u09b2\\\\u09ac\\\\u09be\\\\u09b8\\\\u09bf\", \"4\": \"\\\\u09aa\\\\u09dc\\\\u09a4\\\\u09c7\", \"5\": \"\\\\u09b2\\\\u09bf\\\\u0996\\\\u09a4\\\\u09c7\", \"6\": \"\\\\u09ac\\\\u0987\\\\u09ae\\\\u09c7\\\\u09b2\\\\u09be\", \"7\": \"\\\\u098f\\\\u09b2\\\\u09c7\", \"8\": \"\\\\u09aa\\\\u09cd\\\\u09b0\\\\u099a\\\\u09c1\\\\u09b0\", \"9\": \"\\\\u0995\\\\u09bf\\\\u09a8\\\\u09bf\"}',\n",
       " 'word_index': '{\"\\\\u0986\\\\u09ae\\\\u09bf\": 1, \"\\\\u09ac\\\\u0987\": 2, \"\\\\u09ad\\\\u09be\\\\u09b2\\\\u09ac\\\\u09be\\\\u09b8\\\\u09bf\": 3, \"\\\\u09aa\\\\u09dc\\\\u09a4\\\\u09c7\": 4, \"\\\\u09b2\\\\u09bf\\\\u0996\\\\u09a4\\\\u09c7\": 5, \"\\\\u09ac\\\\u0987\\\\u09ae\\\\u09c7\\\\u09b2\\\\u09be\": 6, \"\\\\u098f\\\\u09b2\\\\u09c7\": 7, \"\\\\u09aa\\\\u09cd\\\\u09b0\\\\u099a\\\\u09c1\\\\u09b0\": 8, \"\\\\u0995\\\\u09bf\\\\u09a8\\\\u09bf\": 9}'}"
      ]
     },
     "execution_count": 27,
     "metadata": {},
     "output_type": "execute_result"
    }
   ],
   "source": [
    "tokenizer.get_config()"
   ]
  },
  {
   "cell_type": "code",
   "execution_count": 85,
   "id": "7195d909-069c-455a-818b-3d48e231f6f1",
   "metadata": {},
   "outputs": [
    {
     "data": {
      "text/plain": [
       "{'আমি': 1,\n",
       " 'বই': 2,\n",
       " 'ভালবাসি': 3,\n",
       " 'পড়তে': 4,\n",
       " 'লিখতে': 5,\n",
       " 'বইমেলা': 6,\n",
       " 'এলে': 7,\n",
       " 'প্রচুর': 8,\n",
       " 'কিনি': 9,\n",
       " 'এইবার': 10,\n",
       " 'বইমেলায়': 11,\n",
       " 'আমার': 12,\n",
       " 'সাথে': 13,\n",
       " 'তুমি': 14,\n",
       " 'কি': 15,\n",
       " 'যাবে': 16}"
      ]
     },
     "execution_count": 85,
     "metadata": {},
     "output_type": "execute_result"
    }
   ],
   "source": [
    "sentences = [\n",
    "    'আমি ভালবাসি বই পড়তে,',\n",
    "    'আমি ভালবাসি বই লিখতে!',\n",
    "    'বইমেলা এলে আমি প্রচুর বই কিনি',\n",
    "    'এইবার বইমেলায় আমার সাথে তুমি কি যাবে?'\n",
    "]\n",
    "\n",
    "tokenizer = Tokenizer(num_words = 100)\n",
    "tokenizer.fit_on_texts(sentences)\n",
    "\n",
    "word_index = tokenizer.word_index\n",
    "word_index"
   ]
  },
  {
   "cell_type": "code",
   "execution_count": 115,
   "id": "9b171e50-a9f9-4139-853a-1986a28a40b8",
   "metadata": {},
   "outputs": [
    {
     "data": {
      "text/plain": [
       "[[1, 3, 2, 7], [1, 3, 2, 8], [9, 10, 1, 11, 2, 12], [13, 14, 15, 16, 4, 5, 6]]"
      ]
     },
     "execution_count": 115,
     "metadata": {},
     "output_type": "execute_result"
    }
   ],
   "source": [
    "sequences = tokenizer.texts_to_sequences(sentences)\n",
    "\n",
    "sequences"
   ]
  },
  {
   "cell_type": "code",
   "execution_count": 117,
   "id": "6f7afb25-a758-4086-a27f-d0c324c91ecf",
   "metadata": {},
   "outputs": [
    {
     "data": {
      "text/plain": [
       "{'আমি': 1,\n",
       " 'বই': 2,\n",
       " 'ভালবাসি': 3,\n",
       " 'তুমি': 4,\n",
       " 'কি': 5,\n",
       " 'যাবে': 6,\n",
       " 'পড়তে': 7,\n",
       " 'লিখতে': 8,\n",
       " 'বইমেলা': 9,\n",
       " 'এলে': 10,\n",
       " 'প্রচুর': 11,\n",
       " 'কিনি': 12,\n",
       " 'এইবার': 13,\n",
       " 'বইমেলায়': 14,\n",
       " 'আমার': 15,\n",
       " 'সাথে': 16,\n",
       " 'দেশে': 17}"
      ]
     },
     "execution_count": 117,
     "metadata": {},
     "output_type": "execute_result"
    }
   ],
   "source": [
    "tokenizer.word_index"
   ]
  },
  {
   "cell_type": "markdown",
   "id": "acbf0176-c78b-44de-8f37-d16e076ae493",
   "metadata": {},
   "source": [
    "## 2.2 Padding"
   ]
  },
  {
   "cell_type": "code",
   "execution_count": 145,
   "id": "d011dde0-6150-4a07-815e-4215530de12c",
   "metadata": {},
   "outputs": [
    {
     "name": "stdout",
     "output_type": "stream",
     "text": [
      "[[ 0  0  0  1  3  2  7]\n",
      " [ 0  0  0  1  3  2  8]\n",
      " [ 0  9 10  1 11  2 12]\n",
      " [13 14 15 16  4  5  6]]\n"
     ]
    }
   ],
   "source": [
    "# Padding with zeor\n",
    "padded = pad_sequences(sequences)\n",
    "\n",
    "print(padded)"
   ]
  },
  {
   "cell_type": "code",
   "execution_count": 147,
   "id": "92616e0c-a4b9-48e0-a307-e269053c46bb",
   "metadata": {},
   "outputs": [
    {
     "data": {
      "text/plain": [
       "(4, 7)"
      ]
     },
     "execution_count": 147,
     "metadata": {},
     "output_type": "execute_result"
    }
   ],
   "source": [
    "padded.shape"
   ]
  },
  {
   "cell_type": "code",
   "execution_count": 149,
   "id": "c38d8e1c-143c-454f-a7f1-7a6610ba418c",
   "metadata": {},
   "outputs": [
    {
     "data": {
      "text/plain": [
       "array([[ 1,  3,  2,  7,  0,  0,  0,  0,  0,  0],\n",
       "       [ 1,  3,  2,  8,  0,  0,  0,  0,  0,  0],\n",
       "       [ 9, 10,  1, 11,  2, 12,  0,  0,  0,  0],\n",
       "       [13, 14, 15, 16,  4,  5,  6,  0,  0,  0]], dtype=int32)"
      ]
     },
     "execution_count": 149,
     "metadata": {},
     "output_type": "execute_result"
    }
   ],
   "source": [
    "padded = pad_sequences(sequences, padding='post', maxlen=10)\n",
    "\n",
    "padded"
   ]
  },
  {
   "cell_type": "code",
   "execution_count": 159,
   "id": "349f74c6-f034-4074-8275-f983f6b76a3b",
   "metadata": {},
   "outputs": [
    {
     "name": "stdout",
     "output_type": "stream",
     "text": [
      "'০' দিয়ে প্যাডিং দেয়া সিকোয়েন্স তবে ৫টা সর্বোচ্চ শব্দ:\n",
      "[[ 1  3  2  7  0]\n",
      " [ 1  3  2  8  0]\n",
      " [ 9 10  1 11  2]\n",
      " [13 14 15 16  4]]\n"
     ]
    }
   ],
   "source": [
    "padded = pad_sequences(sequences, padding='post', truncating='post', maxlen=5)\n",
    "\n",
    "print(\"'০' দিয়ে প্যাডিং দেয়া সিকোয়েন্স তবে ৫টা সর্বোচ্চ শব্দ:\")\n",
    "print(padded)"
   ]
  },
  {
   "cell_type": "code",
   "execution_count": 163,
   "id": "08943a35-ffac-4732-b3ed-32c031abf874",
   "metadata": {},
   "outputs": [
    {
     "name": "stdout",
     "output_type": "stream",
     "text": [
      "[[1, 3, 2, 7], [14, 11, 2]]\n"
     ]
    }
   ],
   "source": [
    "# আমরা নতুন কিছু শব্দ ব্যবহার করি যেটা আমাদের টোকেনাইজারকে ফিট করা হয়নি\n",
    "test_data = [\n",
    "    'আমি আসলেই ভালবাসি বই পড়তে',\n",
    "    'বইমেলায় এবার প্রচুর নতুন বই এসেছে!'\n",
    "]\n",
    "\n",
    "# texts_to_sequences কি বের করে দেখি\n",
    "test_seq = tokenizer.texts_to_sequences(test_data)\n",
    "print(test_seq)"
   ]
  },
  {
   "cell_type": "code",
   "execution_count": null,
   "id": "f5147616-66ec-4205-b2b6-17789eade9b7",
   "metadata": {},
   "outputs": [],
   "source": []
  }
 ],
 "metadata": {
  "kernelspec": {
   "display_name": "Python 3 (ipykernel)",
   "language": "python",
   "name": "python3"
  },
  "language_info": {
   "codemirror_mode": {
    "name": "ipython",
    "version": 3
   },
   "file_extension": ".py",
   "mimetype": "text/x-python",
   "name": "python",
   "nbconvert_exporter": "python",
   "pygments_lexer": "ipython3",
   "version": "3.12.4"
  }
 },
 "nbformat": 4,
 "nbformat_minor": 5
}
