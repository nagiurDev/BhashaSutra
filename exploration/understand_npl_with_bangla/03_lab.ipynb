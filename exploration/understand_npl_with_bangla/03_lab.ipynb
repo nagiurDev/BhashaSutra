{
 "cells": [
  {
   "cell_type": "markdown",
   "id": "78791e2e-f20d-4b7c-a870-b839626caf6e",
   "metadata": {},
   "source": [
    "# 3.0 Lab"
   ]
  },
  {
   "cell_type": "code",
   "execution_count": 2,
   "id": "470b587c-3692-486a-9bf9-7cdc0d908e3e",
   "metadata": {},
   "outputs": [],
   "source": [
    "from tensorflow.keras.preprocessing.text import Tokenizer\n",
    "from tensorflow.keras.preprocessing.sequence import pad_sequences"
   ]
  },
  {
   "cell_type": "code",
   "execution_count": 4,
   "id": "a9ef3fd2-c60e-4dee-a59d-a86510d225ee",
   "metadata": {},
   "outputs": [],
   "source": [
    "train_data = [\n",
    "  \"আচ্ছা, ডেটা কিভাবে কথা বলে?\",\n",
    "  \"পড়ছিলাম হান্স রোসলিং এর একটা বই, ফ্যাক্টফুলনেস।\",\n",
    "  \"ধারণা থেকে নয়, বরং ডেটাকে কথা বলতে দিলে আমাদের সব বিপদ কাটবে।\",\n",
    "  \"এই লোক পৃথিবীকে দেখিয়েছিলেন কিভাবে ২০০ বছরের ডেটা আমাদের বাঁচার সময় বাড়িয়েছে!\"\n",
    "]\n",
    "\n",
    "test_data = [\n",
    "  \"এই অ্যানিমেশন আমরা করবো আমাদের পিসিতে।\",\n",
    "  \"সরাসরি চালান নিচের লিংক থেকে, হচ্ছে তো?\",\n",
    "  \"পাল্টান প্যারামিটার, চালান নিজের মতো করে।\"\n",
    "]"
   ]
  },
  {
   "cell_type": "code",
   "execution_count": 6,
   "id": "8b6b7e87-d3d7-419b-bf4e-81bd7e9fa9c2",
   "metadata": {},
   "outputs": [],
   "source": [
    "num_words = 1000\n",
    "oov_token = '<UNK>'\n",
    "pad_type = 'post'\n",
    "trunc_type = 'post'"
   ]
  },
  {
   "cell_type": "code",
   "execution_count": 20,
   "id": "d84e15cc-cfce-454e-bd3f-f421aa3663d8",
   "metadata": {},
   "outputs": [],
   "source": [
    "tokenizer = Tokenizer(num_words=num_words, filters='!\"#$%&()*+,-./:;<=>?@[\\\\]^_`{|}~\\t\\n।', oov_token=oov_token)\n",
    "tokenizer.fit_on_texts(train_data)"
   ]
  },
  {
   "cell_type": "code",
   "execution_count": 104,
   "id": "8d07e9d3-a6ae-42e8-8210-cc05aca8e61d",
   "metadata": {},
   "outputs": [
    {
     "name": "stdout",
     "output_type": "stream",
     "text": [
      "{'<UNK>': 1, 'ডেটা': 2, 'কিভাবে': 3, 'কথা': 4, 'আমাদের': 5, 'আচ্ছা': 6, 'বলে': 7, 'পড়ছিলাম': 8, 'হান্স': 9, 'রোসলিং': 10, 'এর': 11, 'একটা': 12, 'বই': 13, 'ফ্যাক্টফুলনেস': 14, 'ধারণা': 15, 'থেকে': 16, 'নয়': 17, 'বরং': 18, 'ডেটাকে': 19, 'বলতে': 20, 'দিলে': 21, 'সব': 22, 'বিপদ': 23, 'কাটবে': 24, 'এই': 25, 'লোক': 26, 'পৃথিবীকে': 27, 'দেখিয়েছিলেন': 28, '২০০': 29, 'বছরের': 30, 'বাঁচার': 31, 'সময়': 32, 'বাড়িয়েছে': 33}\n"
     ]
    }
   ],
   "source": [
    "word_index = tokenizer.word_index\n",
    "print(word_index)"
   ]
  },
  {
   "cell_type": "code",
   "execution_count": 56,
   "id": "5fa1b8f9-cecd-4c09-9016-c33053a44c35",
   "metadata": {},
   "outputs": [
    {
     "data": {
      "text/plain": [
       "dict"
      ]
     },
     "execution_count": 56,
     "metadata": {},
     "output_type": "execute_result"
    }
   ],
   "source": [
    "type(tokenizer.get_config())"
   ]
  },
  {
   "cell_type": "code",
   "execution_count": 58,
   "id": "91e421fc-055f-4e46-92ba-98e422253072",
   "metadata": {},
   "outputs": [
    {
     "data": {
      "text/plain": [
       "[[6, 2, 3, 4, 7],\n",
       " [8, 9, 10, 11, 12, 13, 14],\n",
       " [15, 16, 17, 18, 19, 4, 20, 21, 5, 22, 23, 24],\n",
       " [25, 26, 27, 28, 3, 29, 30, 2, 5, 31, 32, 33]]"
      ]
     },
     "execution_count": 58,
     "metadata": {},
     "output_type": "execute_result"
    }
   ],
   "source": [
    "train_sequences = tokenizer.texts_to_sequences(train_data)\n",
    "train_sequences"
   ]
  },
  {
   "cell_type": "code",
   "execution_count": 74,
   "id": "9a828863-b4ca-4d59-a14a-2a5faaa8a5ee",
   "metadata": {},
   "outputs": [
    {
     "data": {
      "text/plain": [
       "12"
      ]
     },
     "execution_count": 74,
     "metadata": {},
     "output_type": "execute_result"
    }
   ],
   "source": [
    "maxlen = max([len(x) for x in train_sequences])\n",
    "maxlen"
   ]
  },
  {
   "cell_type": "code",
   "execution_count": 106,
   "id": "0f0120a3-c189-4e36-8d4e-39c59d95b241",
   "metadata": {},
   "outputs": [],
   "source": [
    "train_padded = pad_sequences(train_sequences, padding=pad_type, truncating=trunc_type, maxlen=maxlen)"
   ]
  },
  {
   "cell_type": "markdown",
   "id": "7f0b4cfa-863e-4009-ab3f-c0495685ac3b",
   "metadata": {},
   "source": [
    "### Output"
   ]
  },
  {
   "cell_type": "code",
   "execution_count": 111,
   "id": "efe59148-008f-4195-982d-5437baac3544",
   "metadata": {},
   "outputs": [
    {
     "data": {
      "text/plain": [
       "['আচ্ছা, ডেটা কিভাবে কথা বলে?',\n",
       " 'পড়ছিলাম হান্স রোসলিং এর একটা বই, ফ্যাক্টফুলনেস।',\n",
       " 'ধারণা থেকে নয়, বরং ডেটাকে কথা বলতে দিলে আমাদের সব বিপদ কাটবে।',\n",
       " 'এই লোক পৃথিবীকে দেখিয়েছিলেন কিভাবে ২০০ বছরের ডেটা আমাদের বাঁচার সময় বাড়িয়েছে!']"
      ]
     },
     "execution_count": 111,
     "metadata": {},
     "output_type": "execute_result"
    }
   ],
   "source": [
    "train_data"
   ]
  },
  {
   "cell_type": "code",
   "execution_count": 113,
   "id": "8c77b534-1200-43c4-a79c-608a1120324b",
   "metadata": {},
   "outputs": [
    {
     "data": {
      "text/plain": [
       "[[6, 2, 3, 4, 7],\n",
       " [8, 9, 10, 11, 12, 13, 14],\n",
       " [15, 16, 17, 18, 19, 4, 20, 21, 5, 22, 23, 24],\n",
       " [25, 26, 27, 28, 3, 29, 30, 2, 5, 31, 32, 33]]"
      ]
     },
     "execution_count": 113,
     "metadata": {},
     "output_type": "execute_result"
    }
   ],
   "source": [
    "train_sequences"
   ]
  },
  {
   "cell_type": "code",
   "execution_count": 115,
   "id": "7441a969-7cf5-45bd-acc2-7ab5e27212e2",
   "metadata": {},
   "outputs": [
    {
     "data": {
      "text/plain": [
       "array([[ 6,  2,  3,  4,  7,  0,  0,  0,  0,  0,  0,  0],\n",
       "       [ 8,  9, 10, 11, 12, 13, 14,  0,  0,  0,  0,  0],\n",
       "       [15, 16, 17, 18, 19,  4, 20, 21,  5, 22, 23, 24],\n",
       "       [25, 26, 27, 28,  3, 29, 30,  2,  5, 31, 32, 33]], dtype=int32)"
      ]
     },
     "execution_count": 115,
     "metadata": {},
     "output_type": "execute_result"
    }
   ],
   "source": [
    "train_padded"
   ]
  },
  {
   "cell_type": "code",
   "execution_count": 119,
   "id": "0a577609-6a41-4a0b-beb2-e34ae1c3489d",
   "metadata": {},
   "outputs": [
    {
     "data": {
      "text/plain": [
       "(4, 12)"
      ]
     },
     "execution_count": 119,
     "metadata": {},
     "output_type": "execute_result"
    }
   ],
   "source": [
    "train_padded.shape"
   ]
  },
  {
   "cell_type": "markdown",
   "id": "6752f09d-cbff-44ea-8822-7771eba0cdf1",
   "metadata": {},
   "source": [
    "## Testing "
   ]
  },
  {
   "cell_type": "code",
   "execution_count": 125,
   "id": "9041760f-82a9-41cd-ab93-e7c251af8479",
   "metadata": {},
   "outputs": [
    {
     "data": {
      "text/plain": [
       "['এই অ্যানিমেশন আমরা করবো আমাদের পিসিতে।',\n",
       " 'সরাসরি চালান নিচের লিংক থেকে, হচ্ছে তো?',\n",
       " 'পাল্টান প্যারামিটার, চালান নিজের মতো করে।']"
      ]
     },
     "execution_count": 125,
     "metadata": {},
     "output_type": "execute_result"
    }
   ],
   "source": [
    "test_data"
   ]
  },
  {
   "cell_type": "code",
   "execution_count": 123,
   "id": "fa4bc093-12f6-4709-a128-5a0e7fd74daa",
   "metadata": {},
   "outputs": [
    {
     "data": {
      "text/plain": [
       "[[25, 1, 1, 1, 5, 1], [1, 1, 1, 1, 16, 1, 1], [1, 1, 1, 1, 1, 1]]"
      ]
     },
     "execution_count": 123,
     "metadata": {},
     "output_type": "execute_result"
    }
   ],
   "source": [
    "test_sequences = tokenizer.texts_to_sequences(test_data)\n",
    "test_sequences"
   ]
  },
  {
   "cell_type": "code",
   "execution_count": 131,
   "id": "22db74f9-2e11-4bb8-b720-e766aca175a1",
   "metadata": {},
   "outputs": [
    {
     "data": {
      "text/plain": [
       "array([[25,  1,  1,  1,  5,  1,  0,  0,  0,  0,  0,  0],\n",
       "       [ 1,  1,  1,  1, 16,  1,  1,  0,  0,  0,  0,  0],\n",
       "       [ 1,  1,  1,  1,  1,  1,  0,  0,  0,  0,  0,  0]], dtype=int32)"
      ]
     },
     "execution_count": 131,
     "metadata": {},
     "output_type": "execute_result"
    }
   ],
   "source": [
    "test_padded = pad_sequences(test_sequences, padding=pad_type, truncating=trunc_type, maxlen=maxlen)\n",
    "test_padded"
   ]
  },
  {
   "cell_type": "code",
   "execution_count": 139,
   "id": "99850129-4bf5-41e4-b9f3-bb1daddd67a3",
   "metadata": {},
   "outputs": [
    {
     "name": "stdout",
     "output_type": "stream",
     "text": [
      "এই অ্যানিমেশন আমরা করবো আমাদের পিসিতে। -> [25  1  1  1  5  1  0  0  0  0  0  0]\n",
      "সরাসরি চালান নিচের লিংক থেকে, হচ্ছে তো? -> [ 1  1  1  1 16  1  1  0  0  0  0  0]\n",
      "পাল্টান প্যারামিটার, চালান নিজের মতো করে। -> [1 1 1 1 1 1 0 0 0 0 0 0]\n"
     ]
    }
   ],
   "source": [
    "for x, y in zip(test_data, test_padded):\n",
    "    print('{} -> {}'.format(x,y))"
   ]
  },
  {
   "cell_type": "code",
   "execution_count": null,
   "id": "e4d423e2-b167-4fa1-b032-06ad075399e6",
   "metadata": {},
   "outputs": [],
   "source": []
  }
 ],
 "metadata": {
  "kernelspec": {
   "display_name": "Python 3 (ipykernel)",
   "language": "python",
   "name": "python3"
  },
  "language_info": {
   "codemirror_mode": {
    "name": "ipython",
    "version": 3
   },
   "file_extension": ".py",
   "mimetype": "text/x-python",
   "name": "python",
   "nbconvert_exporter": "python",
   "pygments_lexer": "ipython3",
   "version": "3.12.4"
  }
 },
 "nbformat": 4,
 "nbformat_minor": 5
}
